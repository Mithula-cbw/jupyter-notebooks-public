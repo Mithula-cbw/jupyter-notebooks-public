{
  "nbformat": 4,
  "nbformat_minor": 0,
  "metadata": {
    "colab": {
      "provenance": [],
      "authorship_tag": "ABX9TyPMd92sMkWn43ZQLmFABSxO",
      "include_colab_link": true
    },
    "kernelspec": {
      "name": "python3",
      "display_name": "Python 3"
    },
    "language_info": {
      "name": "python"
    }
  },
  "cells": [
    {
      "cell_type": "markdown",
      "metadata": {
        "id": "view-in-github",
        "colab_type": "text"
      },
      "source": [
        "<a href=\"https://colab.research.google.com/github/Mithula-cbw/jupyter-notebooks-public/blob/main/Test_module_data_explore.ipynb\" target=\"_parent\"><img src=\"https://colab.research.google.com/assets/colab-badge.svg\" alt=\"Open In Colab\"/></a>"
      ]
    },
    {
      "cell_type": "markdown",
      "source": [
        "# Testing module data_explore.py"
      ],
      "metadata": {
        "id": "PMxPpP-mZ9RX"
      }
    },
    {
      "cell_type": "markdown",
      "source": [
        "> **Note:**  \n",
        "> The module can be found in Heart_Attack_Prediction_App repository in my Github.  \n",
        "> File path: `Heart_Attack_Prediction_App/src/data_explore.py`  \n",
        ">Go to repository: [Mithula-cbw/Heart_Attack_Prediction_App](https://github.com/Mithula-cbw/Heart_Attack_Prediction_App)  \n",
        ">Data set used : [Messy_HR_Dataset](https://www.kaggle.com/datasets/hopesb/hr-analytics-dataset/data?select=Messy_HR_Dataset_Detailed.csv)"
      ],
      "metadata": {
        "id": "Pv4bmoOjbY2K"
      }
    },
    {
      "cell_type": "code",
      "source": [
        "# Import module\n",
        "import data_explore as dexp"
      ],
      "metadata": {
        "id": "qX71Ba9CcC98"
      },
      "execution_count": 1,
      "outputs": []
    },
    {
      "cell_type": "code",
      "source": [
        "# load the dataset(csv)\n",
        "# Using file path/name either with .csv extention or without it\n",
        "df = dexp.load_data('Messy_HR_Dataset_Detailed')"
      ],
      "metadata": {
        "colab": {
          "base_uri": "https://localhost:8080/"
        },
        "id": "H2tDqGgScows",
        "outputId": "541b55a2-b637-4192-dd90-ed3b2e6281d6"
      },
      "execution_count": 2,
      "outputs": [
        {
          "output_type": "stream",
          "name": "stdout",
          "text": [
            "File Messy_HR_Dataset_Detailed loaded successfully.\n"
          ]
        }
      ]
    },
    {
      "cell_type": "markdown",
      "source": [
        "Find the shape of the dataset"
      ],
      "metadata": {
        "id": "2Uoe9VaWdIlx"
      }
    },
    {
      "cell_type": "code",
      "source": [
        "dexp.print_df_shape(df)"
      ],
      "metadata": {
        "colab": {
          "base_uri": "https://localhost:8080/"
        },
        "id": "vTKm5KHAdP2F",
        "outputId": "10fb1553-acef-4017-cbfe-bace067a2252"
      },
      "execution_count": 3,
      "outputs": [
        {
          "output_type": "stream",
          "name": "stdout",
          "text": [
            "DataFrame shape:\n",
            "- Rows: 3150\n",
            "- Columns: 39\n"
          ]
        }
      ]
    },
    {
      "cell_type": "markdown",
      "source": [
        "Print the columns in the dataset"
      ],
      "metadata": {
        "id": "mRwUfiBZdazG"
      }
    },
    {
      "cell_type": "code",
      "source": [
        "dexp.print_df_cols(df)"
      ],
      "metadata": {
        "colab": {
          "base_uri": "https://localhost:8080/"
        },
        "collapsed": true,
        "id": "B186CsuidjLI",
        "outputId": "bb1efc04-3593-42eb-9e0a-77d99b15aa63"
      },
      "execution_count": 4,
      "outputs": [
        {
          "output_type": "stream",
          "name": "stdout",
          "text": [
            "-Unnamed: 0\n",
            "-FirstName\n",
            "-LastName\n",
            "-StartDate\n",
            "-ExitDate\n",
            "-Title\n",
            "-Supervisor\n",
            "-ADEmail\n",
            "-BusinessUnit\n",
            "-EmployeeStatus\n",
            "-EmployeeType\n",
            "-PayZone\n",
            "-EmployeeClassificationType\n",
            "-TerminationType\n",
            "-TerminationDescription\n",
            "-DepartmentType\n",
            "-Division\n",
            "-DOB\n",
            "-State\n",
            "-JobFunctionDescription\n",
            "-GenderCode\n",
            "-LocationCode\n",
            "-RaceDesc\n",
            "-MaritalDesc\n",
            "-Performance Score\n",
            "-Current Employee Rating\n",
            "-Employee ID\n",
            "-Survey Date\n",
            "-Engagement Score\n",
            "-Satisfaction Score\n",
            "-Work-Life Balance Score\n",
            "-Training Date\n",
            "-Training Program Name\n",
            "-Training Type\n",
            "-Training Outcome\n",
            "-Location\n",
            "-Trainer\n",
            "-Training Duration(Days)\n",
            "-Training Cost\n"
          ]
        }
      ]
    },
    {
      "cell_type": "markdown",
      "source": [
        "Check if there are any duplicate values"
      ],
      "metadata": {
        "id": "EvF0DwVSdmLe"
      }
    },
    {
      "cell_type": "code",
      "source": [
        "dexp.check_duplicates(df)"
      ],
      "metadata": {
        "colab": {
          "base_uri": "https://localhost:8080/"
        },
        "id": "M28fVocHdvnu",
        "outputId": "fc8d5679-2c0b-4fbb-bf0e-d9956bae6045"
      },
      "execution_count": 5,
      "outputs": [
        {
          "output_type": "stream",
          "name": "stdout",
          "text": [
            "Duplicates found: 150\n",
            "Percentage of duplicates: 4.76%\n"
          ]
        }
      ]
    },
    {
      "cell_type": "markdown",
      "source": [
        "Delete the duplicates found"
      ],
      "metadata": {
        "id": "8U28UmYDd5CJ"
      }
    },
    {
      "cell_type": "code",
      "source": [
        "# we will use a new dataframe to store the cleaned dataset\n",
        "df_cleaned = dexp.delete_duplicates(df)"
      ],
      "metadata": {
        "colab": {
          "base_uri": "https://localhost:8080/"
        },
        "id": "pBn8IyTDd_j4",
        "outputId": "7cb3d19e-262f-4501-f440-508980e34061"
      },
      "execution_count": 6,
      "outputs": [
        {
          "output_type": "stream",
          "name": "stdout",
          "text": [
            "Duplicates deleted: 150 (4.76%)\n"
          ]
        }
      ]
    },
    {
      "cell_type": "markdown",
      "source": [
        "Find the shape of the new dataset after removed duplicats"
      ],
      "metadata": {
        "id": "hZ7SIq0KhAte"
      }
    },
    {
      "cell_type": "code",
      "source": [
        "dexp.print_df_shape(df_cleaned)"
      ],
      "metadata": {
        "colab": {
          "base_uri": "https://localhost:8080/"
        },
        "id": "Rzok7WvZhJ30",
        "outputId": "ec764773-64a2-44e0-f7e7-f06e5cfa3cb0"
      },
      "execution_count": 7,
      "outputs": [
        {
          "output_type": "stream",
          "name": "stdout",
          "text": [
            "DataFrame shape:\n",
            "- Rows: 3000\n",
            "- Columns: 39\n"
          ]
        }
      ]
    },
    {
      "cell_type": "markdown",
      "source": [
        "Check if there are any missing values"
      ],
      "metadata": {
        "id": "UJWXvqbreJzw"
      }
    },
    {
      "cell_type": "code",
      "source": [
        "#dexp.check_missing_values(df_cleaned)"
      ],
      "metadata": {
        "collapsed": true,
        "id": "cFsP6QmZeWTm"
      },
      "execution_count": 8,
      "outputs": []
    },
    {
      "cell_type": "markdown",
      "source": [
        "Let's return only the columns with missing values and the missing count for convenience"
      ],
      "metadata": {
        "id": "hLxjdRv6eaHc"
      }
    },
    {
      "cell_type": "code",
      "source": [
        "dexp.check_missing_values(df_cleaned, fmt=True)"
      ],
      "metadata": {
        "colab": {
          "base_uri": "https://localhost:8080/",
          "height": 112
        },
        "id": "LdRNIgg4eoss",
        "outputId": "8ac9c585-ced9-4340-e3b1-400a94e25e8f"
      },
      "execution_count": 9,
      "outputs": [
        {
          "output_type": "execute_result",
          "data": {
            "text/plain": [
              "                        Missing Count  Missing Percentage\n",
              "ExitDate                         1467                48.9\n",
              "TerminationDescription           1467                48.9"
            ],
            "text/html": [
              "\n",
              "  <div id=\"df-c08299aa-0a43-464f-b2fe-b18290534766\" class=\"colab-df-container\">\n",
              "    <div>\n",
              "<style scoped>\n",
              "    .dataframe tbody tr th:only-of-type {\n",
              "        vertical-align: middle;\n",
              "    }\n",
              "\n",
              "    .dataframe tbody tr th {\n",
              "        vertical-align: top;\n",
              "    }\n",
              "\n",
              "    .dataframe thead th {\n",
              "        text-align: right;\n",
              "    }\n",
              "</style>\n",
              "<table border=\"1\" class=\"dataframe\">\n",
              "  <thead>\n",
              "    <tr style=\"text-align: right;\">\n",
              "      <th></th>\n",
              "      <th>Missing Count</th>\n",
              "      <th>Missing Percentage</th>\n",
              "    </tr>\n",
              "  </thead>\n",
              "  <tbody>\n",
              "    <tr>\n",
              "      <th>ExitDate</th>\n",
              "      <td>1467</td>\n",
              "      <td>48.9</td>\n",
              "    </tr>\n",
              "    <tr>\n",
              "      <th>TerminationDescription</th>\n",
              "      <td>1467</td>\n",
              "      <td>48.9</td>\n",
              "    </tr>\n",
              "  </tbody>\n",
              "</table>\n",
              "</div>\n",
              "    <div class=\"colab-df-buttons\">\n",
              "\n",
              "  <div class=\"colab-df-container\">\n",
              "    <button class=\"colab-df-convert\" onclick=\"convertToInteractive('df-c08299aa-0a43-464f-b2fe-b18290534766')\"\n",
              "            title=\"Convert this dataframe to an interactive table.\"\n",
              "            style=\"display:none;\">\n",
              "\n",
              "  <svg xmlns=\"http://www.w3.org/2000/svg\" height=\"24px\" viewBox=\"0 -960 960 960\">\n",
              "    <path d=\"M120-120v-720h720v720H120Zm60-500h600v-160H180v160Zm220 220h160v-160H400v160Zm0 220h160v-160H400v160ZM180-400h160v-160H180v160Zm440 0h160v-160H620v160ZM180-180h160v-160H180v160Zm440 0h160v-160H620v160Z\"/>\n",
              "  </svg>\n",
              "    </button>\n",
              "\n",
              "  <style>\n",
              "    .colab-df-container {\n",
              "      display:flex;\n",
              "      gap: 12px;\n",
              "    }\n",
              "\n",
              "    .colab-df-convert {\n",
              "      background-color: #E8F0FE;\n",
              "      border: none;\n",
              "      border-radius: 50%;\n",
              "      cursor: pointer;\n",
              "      display: none;\n",
              "      fill: #1967D2;\n",
              "      height: 32px;\n",
              "      padding: 0 0 0 0;\n",
              "      width: 32px;\n",
              "    }\n",
              "\n",
              "    .colab-df-convert:hover {\n",
              "      background-color: #E2EBFA;\n",
              "      box-shadow: 0px 1px 2px rgba(60, 64, 67, 0.3), 0px 1px 3px 1px rgba(60, 64, 67, 0.15);\n",
              "      fill: #174EA6;\n",
              "    }\n",
              "\n",
              "    .colab-df-buttons div {\n",
              "      margin-bottom: 4px;\n",
              "    }\n",
              "\n",
              "    [theme=dark] .colab-df-convert {\n",
              "      background-color: #3B4455;\n",
              "      fill: #D2E3FC;\n",
              "    }\n",
              "\n",
              "    [theme=dark] .colab-df-convert:hover {\n",
              "      background-color: #434B5C;\n",
              "      box-shadow: 0px 1px 3px 1px rgba(0, 0, 0, 0.15);\n",
              "      filter: drop-shadow(0px 1px 2px rgba(0, 0, 0, 0.3));\n",
              "      fill: #FFFFFF;\n",
              "    }\n",
              "  </style>\n",
              "\n",
              "    <script>\n",
              "      const buttonEl =\n",
              "        document.querySelector('#df-c08299aa-0a43-464f-b2fe-b18290534766 button.colab-df-convert');\n",
              "      buttonEl.style.display =\n",
              "        google.colab.kernel.accessAllowed ? 'block' : 'none';\n",
              "\n",
              "      async function convertToInteractive(key) {\n",
              "        const element = document.querySelector('#df-c08299aa-0a43-464f-b2fe-b18290534766');\n",
              "        const dataTable =\n",
              "          await google.colab.kernel.invokeFunction('convertToInteractive',\n",
              "                                                    [key], {});\n",
              "        if (!dataTable) return;\n",
              "\n",
              "        const docLinkHtml = 'Like what you see? Visit the ' +\n",
              "          '<a target=\"_blank\" href=https://colab.research.google.com/notebooks/data_table.ipynb>data table notebook</a>'\n",
              "          + ' to learn more about interactive tables.';\n",
              "        element.innerHTML = '';\n",
              "        dataTable['output_type'] = 'display_data';\n",
              "        await google.colab.output.renderOutput(dataTable, element);\n",
              "        const docLink = document.createElement('div');\n",
              "        docLink.innerHTML = docLinkHtml;\n",
              "        element.appendChild(docLink);\n",
              "      }\n",
              "    </script>\n",
              "  </div>\n",
              "\n",
              "\n",
              "    <div id=\"df-99c905c8-ea97-4f49-bb6d-5b7ffd1c252d\">\n",
              "      <button class=\"colab-df-quickchart\" onclick=\"quickchart('df-99c905c8-ea97-4f49-bb6d-5b7ffd1c252d')\"\n",
              "                title=\"Suggest charts\"\n",
              "                style=\"display:none;\">\n",
              "\n",
              "<svg xmlns=\"http://www.w3.org/2000/svg\" height=\"24px\"viewBox=\"0 0 24 24\"\n",
              "     width=\"24px\">\n",
              "    <g>\n",
              "        <path d=\"M19 3H5c-1.1 0-2 .9-2 2v14c0 1.1.9 2 2 2h14c1.1 0 2-.9 2-2V5c0-1.1-.9-2-2-2zM9 17H7v-7h2v7zm4 0h-2V7h2v10zm4 0h-2v-4h2v4z\"/>\n",
              "    </g>\n",
              "</svg>\n",
              "      </button>\n",
              "\n",
              "<style>\n",
              "  .colab-df-quickchart {\n",
              "      --bg-color: #E8F0FE;\n",
              "      --fill-color: #1967D2;\n",
              "      --hover-bg-color: #E2EBFA;\n",
              "      --hover-fill-color: #174EA6;\n",
              "      --disabled-fill-color: #AAA;\n",
              "      --disabled-bg-color: #DDD;\n",
              "  }\n",
              "\n",
              "  [theme=dark] .colab-df-quickchart {\n",
              "      --bg-color: #3B4455;\n",
              "      --fill-color: #D2E3FC;\n",
              "      --hover-bg-color: #434B5C;\n",
              "      --hover-fill-color: #FFFFFF;\n",
              "      --disabled-bg-color: #3B4455;\n",
              "      --disabled-fill-color: #666;\n",
              "  }\n",
              "\n",
              "  .colab-df-quickchart {\n",
              "    background-color: var(--bg-color);\n",
              "    border: none;\n",
              "    border-radius: 50%;\n",
              "    cursor: pointer;\n",
              "    display: none;\n",
              "    fill: var(--fill-color);\n",
              "    height: 32px;\n",
              "    padding: 0;\n",
              "    width: 32px;\n",
              "  }\n",
              "\n",
              "  .colab-df-quickchart:hover {\n",
              "    background-color: var(--hover-bg-color);\n",
              "    box-shadow: 0 1px 2px rgba(60, 64, 67, 0.3), 0 1px 3px 1px rgba(60, 64, 67, 0.15);\n",
              "    fill: var(--button-hover-fill-color);\n",
              "  }\n",
              "\n",
              "  .colab-df-quickchart-complete:disabled,\n",
              "  .colab-df-quickchart-complete:disabled:hover {\n",
              "    background-color: var(--disabled-bg-color);\n",
              "    fill: var(--disabled-fill-color);\n",
              "    box-shadow: none;\n",
              "  }\n",
              "\n",
              "  .colab-df-spinner {\n",
              "    border: 2px solid var(--fill-color);\n",
              "    border-color: transparent;\n",
              "    border-bottom-color: var(--fill-color);\n",
              "    animation:\n",
              "      spin 1s steps(1) infinite;\n",
              "  }\n",
              "\n",
              "  @keyframes spin {\n",
              "    0% {\n",
              "      border-color: transparent;\n",
              "      border-bottom-color: var(--fill-color);\n",
              "      border-left-color: var(--fill-color);\n",
              "    }\n",
              "    20% {\n",
              "      border-color: transparent;\n",
              "      border-left-color: var(--fill-color);\n",
              "      border-top-color: var(--fill-color);\n",
              "    }\n",
              "    30% {\n",
              "      border-color: transparent;\n",
              "      border-left-color: var(--fill-color);\n",
              "      border-top-color: var(--fill-color);\n",
              "      border-right-color: var(--fill-color);\n",
              "    }\n",
              "    40% {\n",
              "      border-color: transparent;\n",
              "      border-right-color: var(--fill-color);\n",
              "      border-top-color: var(--fill-color);\n",
              "    }\n",
              "    60% {\n",
              "      border-color: transparent;\n",
              "      border-right-color: var(--fill-color);\n",
              "    }\n",
              "    80% {\n",
              "      border-color: transparent;\n",
              "      border-right-color: var(--fill-color);\n",
              "      border-bottom-color: var(--fill-color);\n",
              "    }\n",
              "    90% {\n",
              "      border-color: transparent;\n",
              "      border-bottom-color: var(--fill-color);\n",
              "    }\n",
              "  }\n",
              "</style>\n",
              "\n",
              "      <script>\n",
              "        async function quickchart(key) {\n",
              "          const quickchartButtonEl =\n",
              "            document.querySelector('#' + key + ' button');\n",
              "          quickchartButtonEl.disabled = true;  // To prevent multiple clicks.\n",
              "          quickchartButtonEl.classList.add('colab-df-spinner');\n",
              "          try {\n",
              "            const charts = await google.colab.kernel.invokeFunction(\n",
              "                'suggestCharts', [key], {});\n",
              "          } catch (error) {\n",
              "            console.error('Error during call to suggestCharts:', error);\n",
              "          }\n",
              "          quickchartButtonEl.classList.remove('colab-df-spinner');\n",
              "          quickchartButtonEl.classList.add('colab-df-quickchart-complete');\n",
              "        }\n",
              "        (() => {\n",
              "          let quickchartButtonEl =\n",
              "            document.querySelector('#df-99c905c8-ea97-4f49-bb6d-5b7ffd1c252d button');\n",
              "          quickchartButtonEl.style.display =\n",
              "            google.colab.kernel.accessAllowed ? 'block' : 'none';\n",
              "        })();\n",
              "      </script>\n",
              "    </div>\n",
              "\n",
              "    </div>\n",
              "  </div>\n"
            ],
            "application/vnd.google.colaboratory.intrinsic+json": {
              "type": "dataframe",
              "summary": "{\n  \"name\": \"dexp\",\n  \"rows\": 2,\n  \"fields\": [\n    {\n      \"column\": \"Missing Count\",\n      \"properties\": {\n        \"dtype\": \"number\",\n        \"std\": 0,\n        \"min\": 1467,\n        \"max\": 1467,\n        \"num_unique_values\": 1,\n        \"samples\": [\n          1467\n        ],\n        \"semantic_type\": \"\",\n        \"description\": \"\"\n      }\n    },\n    {\n      \"column\": \"Missing Percentage\",\n      \"properties\": {\n        \"dtype\": \"number\",\n        \"std\": 0.0,\n        \"min\": 48.9,\n        \"max\": 48.9,\n        \"num_unique_values\": 1,\n        \"samples\": [\n          48.9\n        ],\n        \"semantic_type\": \"\",\n        \"description\": \"\"\n      }\n    }\n  ]\n}"
            }
          },
          "metadata": {},
          "execution_count": 9
        }
      ]
    },
    {
      "cell_type": "markdown",
      "source": [
        "The missing values are reasonable since they are exit dates. For now to experiment the module let's drop the rows with missing values"
      ],
      "metadata": {
        "id": "A0ZehG7SevJm"
      }
    },
    {
      "cell_type": "code",
      "source": [
        "df_cleaned = dexp.delete_missing_values(df_cleaned)"
      ],
      "metadata": {
        "id": "IxiDMcEAfYf4"
      },
      "execution_count": 10,
      "outputs": []
    },
    {
      "cell_type": "markdown",
      "source": [
        "Find the shape of the new dataset after removing rows with missing values"
      ],
      "metadata": {
        "id": "QPb1ndcxfkeg"
      }
    },
    {
      "cell_type": "code",
      "source": [
        "dexp.print_df_shape(df_cleaned)"
      ],
      "metadata": {
        "colab": {
          "base_uri": "https://localhost:8080/"
        },
        "id": "8wy-9lkUiclv",
        "outputId": "e8bd7f89-bcfd-4e7b-c36a-b4eec1cbadaa"
      },
      "execution_count": 11,
      "outputs": [
        {
          "output_type": "stream",
          "name": "stdout",
          "text": [
            "DataFrame shape:\n",
            "- Rows: 1533\n",
            "- Columns: 39\n"
          ]
        }
      ]
    }
  ]
}