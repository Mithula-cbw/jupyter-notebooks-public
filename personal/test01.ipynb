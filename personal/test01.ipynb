{
  "nbformat": 4,
  "nbformat_minor": 0,
  "metadata": {
    "colab": {
      "provenance": [],
      "authorship_tag": "ABX9TyPEFgM26wB+5dwLPZ4L8V7J",
      "include_colab_link": true
    },
    "kernelspec": {
      "name": "python3",
      "display_name": "Python 3"
    },
    "language_info": {
      "name": "python"
    }
  },
  "cells": [
    {
      "cell_type": "markdown",
      "metadata": {
        "id": "view-in-github",
        "colab_type": "text"
      },
      "source": [
        "<a href=\"https://colab.research.google.com/github/Mithula-cbw/jupyter-notebooks-public/blob/main/personal/test01.ipynb\" target=\"_parent\"><img src=\"https://colab.research.google.com/assets/colab-badge.svg\" alt=\"Open In Colab\"/></a>"
      ]
    },
    {
      "cell_type": "markdown",
      "source": [
        "# __This is a test__"
      ],
      "metadata": {
        "id": "bv-2f7dNXWlS"
      }
    },
    {
      "cell_type": "markdown",
      "source": [
        "### Test to see how saving colab notebooks to github works"
      ],
      "metadata": {
        "id": "hx6ApLevX2pH"
      }
    },
    {
      "cell_type": "markdown",
      "source": [
        "But for fun let me create a exception handling exercise\n",
        "well, because i was learnig it now."
      ],
      "metadata": {
        "id": "F9AU9NUzX-bW"
      }
    },
    {
      "cell_type": "markdown",
      "source": [
        "Create a small function to print your name:"
      ],
      "metadata": {
        "id": "jwU4OB3TYLut"
      }
    },
    {
      "cell_type": "code",
      "source": [
        "def printname(name):\n",
        "  if len(name) == 0:\n",
        "      raise Exception(\"Name cannot be empty\")\n",
        "  print(f\"\\nYour name is {name[0].upper() + name[1:]}\")"
      ],
      "metadata": {
        "id": "NeFl9swiYeYb"
      },
      "execution_count": 41,
      "outputs": []
    },
    {
      "cell_type": "markdown",
      "source": [
        "Now prompt the user to enter name and if it's empty we will see the error"
      ],
      "metadata": {
        "id": "6gZJgzahY5aJ"
      }
    },
    {
      "cell_type": "code",
      "source": [
        "def printname_v2(name):\n",
        "  assert len(name) != 0, f\"name cannot be empty\"\n",
        "  print(f\"\\nYour name is {name[0].upper() + name[1:]}\")"
      ],
      "metadata": {
        "id": "4R9vU3n9hnsS"
      },
      "execution_count": 42,
      "outputs": []
    },
    {
      "cell_type": "code",
      "source": [
        "name = input(\"Enter your name: \")\n",
        "printname(name)"
      ],
      "metadata": {
        "colab": {
          "base_uri": "https://localhost:8080/"
        },
        "outputId": "4bb1bff5-b3d9-4ff3-d745-75070854882d",
        "id": "SxPASnGnhrsw"
      },
      "execution_count": 43,
      "outputs": [
        {
          "output_type": "stream",
          "name": "stdout",
          "text": [
            "Enter your name: mithula\n",
            "\n",
            "Your name is Mithula\n"
          ]
        }
      ]
    },
    {
      "cell_type": "code",
      "source": [
        "name = input(\"Enter your name: \")\n",
        "printname(name)"
      ],
      "metadata": {
        "id": "81RuqZNKZIPZ",
        "colab": {
          "base_uri": "https://localhost:8080/",
          "height": 280
        },
        "outputId": "02078aeb-3b4b-47ed-cc38-721ea358b935"
      },
      "execution_count": 44,
      "outputs": [
        {
          "name": "stdout",
          "output_type": "stream",
          "text": [
            "Enter your name: \n"
          ]
        },
        {
          "output_type": "error",
          "ename": "Exception",
          "evalue": "Name cannot be empty",
          "traceback": [
            "\u001b[0;31m---------------------------------------------------------------------------\u001b[0m",
            "\u001b[0;31mException\u001b[0m                                 Traceback (most recent call last)",
            "\u001b[0;32m<ipython-input-44-f859919ab539>\u001b[0m in \u001b[0;36m<cell line: 0>\u001b[0;34m()\u001b[0m\n\u001b[1;32m      1\u001b[0m \u001b[0mname\u001b[0m \u001b[0;34m=\u001b[0m \u001b[0minput\u001b[0m\u001b[0;34m(\u001b[0m\u001b[0;34m\"Enter your name: \"\u001b[0m\u001b[0;34m)\u001b[0m\u001b[0;34m\u001b[0m\u001b[0;34m\u001b[0m\u001b[0m\n\u001b[0;32m----> 2\u001b[0;31m \u001b[0mprintname\u001b[0m\u001b[0;34m(\u001b[0m\u001b[0mname\u001b[0m\u001b[0;34m)\u001b[0m\u001b[0;34m\u001b[0m\u001b[0;34m\u001b[0m\u001b[0m\n\u001b[0m",
            "\u001b[0;32m<ipython-input-41-2c9ec8ff16f6>\u001b[0m in \u001b[0;36mprintname\u001b[0;34m(name)\u001b[0m\n\u001b[1;32m      1\u001b[0m \u001b[0;32mdef\u001b[0m \u001b[0mprintname\u001b[0m\u001b[0;34m(\u001b[0m\u001b[0mname\u001b[0m\u001b[0;34m)\u001b[0m\u001b[0;34m:\u001b[0m\u001b[0;34m\u001b[0m\u001b[0;34m\u001b[0m\u001b[0m\n\u001b[1;32m      2\u001b[0m   \u001b[0;32mif\u001b[0m \u001b[0mlen\u001b[0m\u001b[0;34m(\u001b[0m\u001b[0mname\u001b[0m\u001b[0;34m)\u001b[0m \u001b[0;34m==\u001b[0m \u001b[0;36m0\u001b[0m\u001b[0;34m:\u001b[0m\u001b[0;34m\u001b[0m\u001b[0;34m\u001b[0m\u001b[0m\n\u001b[0;32m----> 3\u001b[0;31m       \u001b[0;32mraise\u001b[0m \u001b[0mException\u001b[0m\u001b[0;34m(\u001b[0m\u001b[0;34m\"Name cannot be empty\"\u001b[0m\u001b[0;34m)\u001b[0m\u001b[0;34m\u001b[0m\u001b[0;34m\u001b[0m\u001b[0m\n\u001b[0m\u001b[1;32m      4\u001b[0m   \u001b[0mprint\u001b[0m\u001b[0;34m(\u001b[0m\u001b[0;34mf\"\\nYour name is {name[0].upper() + name[1:]}\"\u001b[0m\u001b[0;34m)\u001b[0m\u001b[0;34m\u001b[0m\u001b[0;34m\u001b[0m\u001b[0m\n",
            "\u001b[0;31mException\u001b[0m: Name cannot be empty"
          ]
        }
      ]
    },
    {
      "cell_type": "markdown",
      "source": [
        "Now with exception handling"
      ],
      "metadata": {
        "id": "8ueqATB-agfF"
      }
    },
    {
      "cell_type": "code",
      "source": [
        "name = input(\"Enter your name: \")\n",
        "\n",
        "try:\n",
        "  printname(name)\n",
        "except:\n",
        "  pass"
      ],
      "metadata": {
        "colab": {
          "base_uri": "https://localhost:8080/"
        },
        "id": "OdWn2jRCbmqJ",
        "outputId": "99d76243-659c-4648-f48c-7961c8ea9f62"
      },
      "execution_count": 45,
      "outputs": [
        {
          "name": "stdout",
          "output_type": "stream",
          "text": [
            "Enter your name: \n"
          ]
        }
      ]
    },
    {
      "cell_type": "markdown",
      "source": [
        "## Debugging During Development With `assert`"
      ],
      "metadata": {
        "id": "aOpk203Id0t0"
      }
    },
    {
      "cell_type": "markdown",
      "source": [
        "When assertion condition is `True`"
      ],
      "metadata": {
        "id": "j53tNl-OgXl7"
      }
    },
    {
      "cell_type": "code",
      "source": [
        "number = 3\n",
        "assert (number < 5), f\"The number should not exceed 5. ({number=})\"\n",
        "print(number)"
      ],
      "metadata": {
        "colab": {
          "base_uri": "https://localhost:8080/"
        },
        "id": "v1zSQluZfStZ",
        "outputId": "d8ec9633-a5e3-46ba-f3b7-d074b5e3ab47"
      },
      "execution_count": 46,
      "outputs": [
        {
          "output_type": "stream",
          "name": "stdout",
          "text": [
            "3\n"
          ]
        }
      ]
    },
    {
      "cell_type": "markdown",
      "source": [
        "When assertion condition is `False`"
      ],
      "metadata": {
        "id": "oGjujYZBgObD"
      }
    },
    {
      "cell_type": "code",
      "source": [
        "number = 6\n",
        "assert (number < 5), f\"The number should not exceed 5. ({number=})\"\n",
        "print(number)"
      ],
      "metadata": {
        "colab": {
          "base_uri": "https://localhost:8080/",
          "height": 176
        },
        "id": "jnPT7tbPfbJB",
        "outputId": "4a8a403e-f296-4080-c64c-17b6b82e8a0e"
      },
      "execution_count": 47,
      "outputs": [
        {
          "output_type": "error",
          "ename": "AssertionError",
          "evalue": "The number should not exceed 5. (number=6)",
          "traceback": [
            "\u001b[0;31m---------------------------------------------------------------------------\u001b[0m",
            "\u001b[0;31mAssertionError\u001b[0m                            Traceback (most recent call last)",
            "\u001b[0;32m<ipython-input-47-c6b88ea35e2d>\u001b[0m in \u001b[0;36m<cell line: 0>\u001b[0;34m()\u001b[0m\n\u001b[1;32m      1\u001b[0m \u001b[0mnumber\u001b[0m \u001b[0;34m=\u001b[0m \u001b[0;36m6\u001b[0m\u001b[0;34m\u001b[0m\u001b[0;34m\u001b[0m\u001b[0m\n\u001b[0;32m----> 2\u001b[0;31m \u001b[0;32massert\u001b[0m \u001b[0;34m(\u001b[0m\u001b[0mnumber\u001b[0m \u001b[0;34m<\u001b[0m \u001b[0;36m5\u001b[0m\u001b[0;34m)\u001b[0m\u001b[0;34m,\u001b[0m \u001b[0;34mf\"The number should not exceed 5. ({number=})\"\u001b[0m\u001b[0;34m\u001b[0m\u001b[0;34m\u001b[0m\u001b[0m\n\u001b[0m\u001b[1;32m      3\u001b[0m \u001b[0mprint\u001b[0m\u001b[0;34m(\u001b[0m\u001b[0mnumber\u001b[0m\u001b[0;34m)\u001b[0m\u001b[0;34m\u001b[0m\u001b[0;34m\u001b[0m\u001b[0m\n",
            "\u001b[0;31mAssertionError\u001b[0m: The number should not exceed 5. (number=6)"
          ]
        }
      ]
    },
    {
      "cell_type": "markdown",
      "source": [
        "Re-implement the first example function using `assert`"
      ],
      "metadata": {
        "id": "VHyijKrJgj6j"
      }
    },
    {
      "cell_type": "code",
      "source": [
        "def printname_v2(name):\n",
        "  assert len(name) > 0, f\"name cannot be empty\"\n",
        "  print(f\"\\nYour name is {name[0].upper() + name[1:]}\")"
      ],
      "metadata": {
        "id": "0MSZTWqPgr3C"
      },
      "execution_count": 48,
      "outputs": []
    },
    {
      "cell_type": "code",
      "source": [
        "name = input(\"Enter your name: \")\n",
        "printname_v2(name)"
      ],
      "metadata": {
        "colab": {
          "base_uri": "https://localhost:8080/"
        },
        "outputId": "4c1fd0b2-6fc7-42ec-9d72-e6194cbb9ae2",
        "id": "KCsGtu-hhL71"
      },
      "execution_count": 49,
      "outputs": [
        {
          "output_type": "stream",
          "name": "stdout",
          "text": [
            "Enter your name: mithula\n",
            "\n",
            "Your name is Mithula\n"
          ]
        }
      ]
    },
    {
      "cell_type": "code",
      "source": [
        "name = input(\"Enter your name: \")\n",
        "printname(name)"
      ],
      "metadata": {
        "colab": {
          "base_uri": "https://localhost:8080/",
          "height": 280
        },
        "outputId": "f86963e2-7949-46d6-ee7e-a3264d48ade5",
        "id": "nkx6SvrkhTnQ"
      },
      "execution_count": 50,
      "outputs": [
        {
          "name": "stdout",
          "output_type": "stream",
          "text": [
            "Enter your name: \n"
          ]
        },
        {
          "output_type": "error",
          "ename": "Exception",
          "evalue": "Name cannot be empty",
          "traceback": [
            "\u001b[0;31m---------------------------------------------------------------------------\u001b[0m",
            "\u001b[0;31mException\u001b[0m                                 Traceback (most recent call last)",
            "\u001b[0;32m<ipython-input-50-f859919ab539>\u001b[0m in \u001b[0;36m<cell line: 0>\u001b[0;34m()\u001b[0m\n\u001b[1;32m      1\u001b[0m \u001b[0mname\u001b[0m \u001b[0;34m=\u001b[0m \u001b[0minput\u001b[0m\u001b[0;34m(\u001b[0m\u001b[0;34m\"Enter your name: \"\u001b[0m\u001b[0;34m)\u001b[0m\u001b[0;34m\u001b[0m\u001b[0;34m\u001b[0m\u001b[0m\n\u001b[0;32m----> 2\u001b[0;31m \u001b[0mprintname\u001b[0m\u001b[0;34m(\u001b[0m\u001b[0mname\u001b[0m\u001b[0;34m)\u001b[0m\u001b[0;34m\u001b[0m\u001b[0;34m\u001b[0m\u001b[0m\n\u001b[0m",
            "\u001b[0;32m<ipython-input-41-2c9ec8ff16f6>\u001b[0m in \u001b[0;36mprintname\u001b[0;34m(name)\u001b[0m\n\u001b[1;32m      1\u001b[0m \u001b[0;32mdef\u001b[0m \u001b[0mprintname\u001b[0m\u001b[0;34m(\u001b[0m\u001b[0mname\u001b[0m\u001b[0;34m)\u001b[0m\u001b[0;34m:\u001b[0m\u001b[0;34m\u001b[0m\u001b[0;34m\u001b[0m\u001b[0m\n\u001b[1;32m      2\u001b[0m   \u001b[0;32mif\u001b[0m \u001b[0mlen\u001b[0m\u001b[0;34m(\u001b[0m\u001b[0mname\u001b[0m\u001b[0;34m)\u001b[0m \u001b[0;34m==\u001b[0m \u001b[0;36m0\u001b[0m\u001b[0;34m:\u001b[0m\u001b[0;34m\u001b[0m\u001b[0;34m\u001b[0m\u001b[0m\n\u001b[0;32m----> 3\u001b[0;31m       \u001b[0;32mraise\u001b[0m \u001b[0mException\u001b[0m\u001b[0;34m(\u001b[0m\u001b[0;34m\"Name cannot be empty\"\u001b[0m\u001b[0;34m)\u001b[0m\u001b[0;34m\u001b[0m\u001b[0;34m\u001b[0m\u001b[0m\n\u001b[0m\u001b[1;32m      4\u001b[0m   \u001b[0mprint\u001b[0m\u001b[0;34m(\u001b[0m\u001b[0;34mf\"\\nYour name is {name[0].upper() + name[1:]}\"\u001b[0m\u001b[0;34m)\u001b[0m\u001b[0;34m\u001b[0m\u001b[0;34m\u001b[0m\u001b[0m\n",
            "\u001b[0;31mException\u001b[0m: Name cannot be empty"
          ]
        }
      ]
    }
  ]
}