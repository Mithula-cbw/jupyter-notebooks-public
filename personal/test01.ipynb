{
  "nbformat": 4,
  "nbformat_minor": 0,
  "metadata": {
    "colab": {
      "provenance": [],
      "authorship_tag": "ABX9TyMOHQ9HcN6cH54xpWmtyCCv",
      "include_colab_link": true
    },
    "kernelspec": {
      "name": "python3",
      "display_name": "Python 3"
    },
    "language_info": {
      "name": "python"
    }
  },
  "cells": [
    {
      "cell_type": "markdown",
      "metadata": {
        "id": "view-in-github",
        "colab_type": "text"
      },
      "source": [
        "<a href=\"https://colab.research.google.com/github/Mithula-cbw/jupyter-notebooks-public/blob/main/personal/test01.ipynb\" target=\"_parent\"><img src=\"https://colab.research.google.com/assets/colab-badge.svg\" alt=\"Open In Colab\"/></a>"
      ]
    },
    {
      "cell_type": "markdown",
      "source": [
        "# __This is a test__"
      ],
      "metadata": {
        "id": "bv-2f7dNXWlS"
      }
    },
    {
      "cell_type": "markdown",
      "source": [
        "### Test to see how saving colab notebooks to github works"
      ],
      "metadata": {
        "id": "hx6ApLevX2pH"
      }
    },
    {
      "cell_type": "markdown",
      "source": [
        "But for fun let me create a exception handling exercise\n",
        "well, because i was learnig it now."
      ],
      "metadata": {
        "id": "F9AU9NUzX-bW"
      }
    },
    {
      "cell_type": "markdown",
      "source": [
        "Create a small function to print your name:"
      ],
      "metadata": {
        "id": "jwU4OB3TYLut"
      }
    },
    {
      "cell_type": "code",
      "source": [
        "def printname(name):\n",
        "  if len(name) == 0:\n",
        "      raise Exception(\"Name cannot be empty\")\n",
        "  print(f\"\\nYour name is {name[0].upper() + name[1:]}\")"
      ],
      "metadata": {
        "id": "NeFl9swiYeYb"
      },
      "execution_count": 6,
      "outputs": []
    },
    {
      "cell_type": "markdown",
      "source": [
        "Now prompt the user to enter name and if it's empty we will see the error"
      ],
      "metadata": {
        "id": "6gZJgzahY5aJ"
      }
    },
    {
      "cell_type": "code",
      "source": [
        "name = input(\"Enter your name: \")\n",
        "printname(name)"
      ],
      "metadata": {
        "id": "81RuqZNKZIPZ",
        "colab": {
          "base_uri": "https://localhost:8080/"
        },
        "outputId": "50d8ef49-2413-48b7-8846-99f960d3cd97"
      },
      "execution_count": 10,
      "outputs": [
        {
          "output_type": "stream",
          "name": "stdout",
          "text": [
            "Enter your name: mithula\n",
            "\n",
            "Your name is Mithula\n"
          ]
        }
      ]
    },
    {
      "cell_type": "markdown",
      "source": [
        "Now with exception handling"
      ],
      "metadata": {
        "id": "8ueqATB-agfF"
      }
    },
    {
      "cell_type": "code",
      "source": [
        "name = input(\"Enter your name: \")\n",
        "\n",
        "try:\n",
        "  printname(name)\n",
        "except:\n",
        "  pass"
      ],
      "metadata": {
        "colab": {
          "base_uri": "https://localhost:8080/"
        },
        "id": "OdWn2jRCbmqJ",
        "outputId": "d1666077-17af-446f-d021-b51be86d5319"
      },
      "execution_count": 14,
      "outputs": [
        {
          "name": "stdout",
          "output_type": "stream",
          "text": [
            "Enter your name: \n"
          ]
        }
      ]
    }
  ]
}