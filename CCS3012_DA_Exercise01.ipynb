{
  "nbformat": 4,
  "nbformat_minor": 0,
  "metadata": {
    "colab": {
      "provenance": [],
      "authorship_tag": "ABX9TyNIeHpWL7UuJOUeVSy1ctzd",
      "include_colab_link": true
    },
    "kernelspec": {
      "name": "python3",
      "display_name": "Python 3"
    },
    "language_info": {
      "name": "python"
    }
  },
  "cells": [
    {
      "cell_type": "markdown",
      "metadata": {
        "id": "view-in-github",
        "colab_type": "text"
      },
      "source": [
        "<a href=\"https://colab.research.google.com/github/Mithula-cbw/jupyter-notebooks-public/blob/main/CCS3012_DA_Exercise01.ipynb\" target=\"_parent\"><img src=\"https://colab.research.google.com/assets/colab-badge.svg\" alt=\"Open In Colab\"/></a>"
      ]
    },
    {
      "cell_type": "markdown",
      "source": [
        "Answer the questions or complete the tasks outlined below, use the specific method described if applicable."
      ],
      "metadata": {
        "id": "bNhk9n9XmWsx"
      }
    },
    {
      "cell_type": "markdown",
      "source": [
        "### (1) What is 7 to the power of 4?\n"
      ],
      "metadata": {
        "id": "GfofR6QemiyK"
      }
    },
    {
      "cell_type": "code",
      "source": [
        "7 ** 4"
      ],
      "metadata": {
        "colab": {
          "base_uri": "https://localhost:8080/"
        },
        "id": "_Gz8DhRhml5h",
        "outputId": "95685d58-b585-4188-dc1b-d1d753345a78"
      },
      "execution_count": 1,
      "outputs": [
        {
          "output_type": "execute_result",
          "data": {
            "text/plain": [
              "2401"
            ]
          },
          "metadata": {},
          "execution_count": 1
        }
      ]
    },
    {
      "cell_type": "code",
      "source": [
        "pow(7, 4)"
      ],
      "metadata": {
        "colab": {
          "base_uri": "https://localhost:8080/"
        },
        "id": "lX8GAB5LmuLW",
        "outputId": "20549b25-0161-415f-aaa2-9d18ce186ca2"
      },
      "execution_count": 2,
      "outputs": [
        {
          "output_type": "execute_result",
          "data": {
            "text/plain": [
              "2401"
            ]
          },
          "metadata": {},
          "execution_count": 2
        }
      ]
    },
    {
      "cell_type": "markdown",
      "source": [
        "### (2) Split this string:\n",
        "s = \"Hi there Sam!\"`\n",
        "<br> into a list."
      ],
      "metadata": {
        "id": "9Ut_IYadm88t"
      }
    },
    {
      "cell_type": "code",
      "source": [
        "s = \"Hi there Sam!\"\n",
        "\n",
        "s.split(' ')"
      ],
      "metadata": {
        "colab": {
          "base_uri": "https://localhost:8080/"
        },
        "id": "rxfsqFrYnBMV",
        "outputId": "f1a3563e-7c04-426c-9314-c1154aeb524e"
      },
      "execution_count": 6,
      "outputs": [
        {
          "output_type": "execute_result",
          "data": {
            "text/plain": [
              "['Hi', 'there', 'Sam!']"
            ]
          },
          "metadata": {},
          "execution_count": 6
        }
      ]
    },
    {
      "cell_type": "markdown",
      "source": [
        "### (3) Given the variables:\n",
        "\n",
        "<pre> planet = \"Earth\"\n",
        "        diameter = 12742 <pre>\n",
        "\n",
        "`Use .format()`\n",
        "to print the following string: <br>\n",
        "The diameter of Earth is 12742 kilometers\n"
      ],
      "metadata": {
        "id": "Ps-ARGJZnhc-"
      }
    },
    {
      "cell_type": "code",
      "source": [
        "planet = 'Earth'\n",
        "diameter = 12742\n",
        "\n",
        "f\"The diameter of {planet} is {diameter} kilometers\""
      ],
      "metadata": {
        "colab": {
          "base_uri": "https://localhost:8080/",
          "height": 35
        },
        "id": "bKvEFRcooFWf",
        "outputId": "d972ded6-5fc1-4f64-a7ee-8a2ca5b39446"
      },
      "execution_count": 8,
      "outputs": [
        {
          "output_type": "execute_result",
          "data": {
            "text/plain": [
              "'The diameter of Earth is 12742 kilometers'"
            ],
            "application/vnd.google.colaboratory.intrinsic+json": {
              "type": "string"
            }
          },
          "metadata": {},
          "execution_count": 8
        }
      ]
    },
    {
      "cell_type": "markdown",
      "source": [
        "\n",
        "\n",
        "### (4) Given this nested list, use indexing to grab the word \"hello\"\n",
        "\n",
        "`lst = [1,2,[3,4],[5,[100,200,['hello']],23,11],1,7]`\n"
      ],
      "metadata": {
        "id": "a6VRZt89o6Gs"
      }
    },
    {
      "cell_type": "code",
      "source": [
        "lst = [1,2,[3,4],[5,[100,200,['hello']],23,11],1,7]\n",
        "\n",
        "lst[3][1][2][0]"
      ],
      "metadata": {
        "colab": {
          "base_uri": "https://localhost:8080/",
          "height": 35
        },
        "id": "1R2pGOgnpGbq",
        "outputId": "b7e91117-0b75-4b16-ca76-cd2892917b2a"
      },
      "execution_count": 16,
      "outputs": [
        {
          "output_type": "execute_result",
          "data": {
            "text/plain": [
              "'hello'"
            ],
            "application/vnd.google.colaboratory.intrinsic+json": {
              "type": "string"
            }
          },
          "metadata": {},
          "execution_count": 16
        }
      ]
    },
    {
      "cell_type": "markdown",
      "source": [
        "\n",
        "\n",
        "### (5) Given this nested dictionary grab the word \"hello\".\n",
        "\n",
        "`d = {'k1':[1,2,3,{'tricky':['oh','man','inception',{'target':[1,2,3,'hello']}]}]}`\n"
      ],
      "metadata": {
        "id": "UQ46N0K2pd56"
      }
    },
    {
      "cell_type": "code",
      "source": [
        "#The nested dictionary\n",
        "d = {'k1':[1,2,3,{'tricky':['oh','man','inception',{'target':[1,2,3,'hello']}]}]}"
      ],
      "metadata": {
        "id": "ln1RExkip7Ao"
      },
      "execution_count": 27,
      "outputs": []
    },
    {
      "cell_type": "markdown",
      "source": [
        "Let's go inside the nests step by step for clarity"
      ],
      "metadata": {
        "id": "tuMN6Ht3qFH7"
      }
    },
    {
      "cell_type": "code",
      "source": [
        "d['k1']"
      ],
      "metadata": {
        "colab": {
          "base_uri": "https://localhost:8080/"
        },
        "id": "_JaI_5lYqqv7",
        "outputId": "555843cc-75e4-4798-ba09-e631c80c54b4"
      },
      "execution_count": 28,
      "outputs": [
        {
          "output_type": "execute_result",
          "data": {
            "text/plain": [
              "[1,\n",
              " 2,\n",
              " 3,\n",
              " {'tricky': ['oh', 'man', 'inception', {'target': [1, 2, 3, 'hello']}]}]"
            ]
          },
          "metadata": {},
          "execution_count": 28
        }
      ]
    },
    {
      "cell_type": "code",
      "source": [
        "d['k1'][3]"
      ],
      "metadata": {
        "colab": {
          "base_uri": "https://localhost:8080/"
        },
        "id": "4NiaE1_eqvAE",
        "outputId": "59baf0d8-eb1e-404c-cfcf-2faff38cf183"
      },
      "execution_count": 31,
      "outputs": [
        {
          "output_type": "execute_result",
          "data": {
            "text/plain": [
              "{'tricky': ['oh', 'man', 'inception', {'target': [1, 2, 3, 'hello']}]}"
            ]
          },
          "metadata": {},
          "execution_count": 31
        }
      ]
    },
    {
      "cell_type": "code",
      "source": [
        "d['k1'][3]['tricky']"
      ],
      "metadata": {
        "colab": {
          "base_uri": "https://localhost:8080/"
        },
        "id": "qGLDwalvq0Cn",
        "outputId": "8437b630-ae6c-4b5b-c0eb-f6d5b86234fb"
      },
      "execution_count": 34,
      "outputs": [
        {
          "output_type": "execute_result",
          "data": {
            "text/plain": [
              "['oh', 'man', 'inception', {'target': [1, 2, 3, 'hello']}]"
            ]
          },
          "metadata": {},
          "execution_count": 34
        }
      ]
    },
    {
      "cell_type": "code",
      "source": [
        "d['k1'][3]['tricky'][3]"
      ],
      "metadata": {
        "colab": {
          "base_uri": "https://localhost:8080/"
        },
        "id": "OL1d6D_gq7lL",
        "outputId": "e7adb695-e573-48fe-8307-66148e23af46"
      },
      "execution_count": 36,
      "outputs": [
        {
          "output_type": "execute_result",
          "data": {
            "text/plain": [
              "{'target': [1, 2, 3, 'hello']}"
            ]
          },
          "metadata": {},
          "execution_count": 36
        }
      ]
    },
    {
      "cell_type": "code",
      "source": [
        "d['k1'][3]['tricky'][3]['target']"
      ],
      "metadata": {
        "colab": {
          "base_uri": "https://localhost:8080/"
        },
        "id": "hc5UvRU9q-of",
        "outputId": "9f0b2dab-b16b-4dd8-da5a-401a42c738cf"
      },
      "execution_count": 38,
      "outputs": [
        {
          "output_type": "execute_result",
          "data": {
            "text/plain": [
              "[1, 2, 3, 'hello']"
            ]
          },
          "metadata": {},
          "execution_count": 38
        }
      ]
    },
    {
      "cell_type": "code",
      "source": [
        "d['k1'][3]['tricky'][3]['target'][3]"
      ],
      "metadata": {
        "colab": {
          "base_uri": "https://localhost:8080/",
          "height": 35
        },
        "id": "DEFYtFCWrEUG",
        "outputId": "28ce158a-8daf-4dea-a16f-c9b78ca3de3e"
      },
      "execution_count": 40,
      "outputs": [
        {
          "output_type": "execute_result",
          "data": {
            "text/plain": [
              "'hello'"
            ],
            "application/vnd.google.colaboratory.intrinsic+json": {
              "type": "string"
            }
          },
          "metadata": {},
          "execution_count": 40
        }
      ]
    },
    {
      "cell_type": "markdown",
      "source": [
        "### (6) What is the main difference between a tuple and a list?\n"
      ],
      "metadata": {
        "id": "dmgfEewJrQ2c"
      }
    },
    {
      "cell_type": "markdown",
      "source": [
        "| tuple | list |\n",
        "|-------|------|\n",
        "| Immutable | Mutable |\n",
        "|() parentheses|[] brackets|"
      ],
      "metadata": {
        "id": "gFRWXIr3rShB"
      }
    },
    {
      "cell_type": "markdown",
      "source": [
        "\n",
        "\n",
        "### (7) Create a function that grabs the email website domain from a string in the form:\n",
        "\n",
        "`user@domain.com`\n",
        "\n",
        "So for example, passing `\"user@domain.com\"` would return: `domain.com`\n"
      ],
      "metadata": {
        "id": "hS39Y3p9rvf7"
      }
    },
    {
      "cell_type": "code",
      "source": [
        "#define function\n",
        "def grabdomain(email):\n",
        "  email.strip()\n",
        "  email = email.casefold()\n",
        "\n",
        "  return email.split('@')[1]"
      ],
      "metadata": {
        "id": "mRUdortkr6pZ"
      },
      "execution_count": 42,
      "outputs": []
    },
    {
      "cell_type": "code",
      "source": [
        "#tests\n",
        "\n",
        "print(f\"{grabdomain('user@domain.com')}\")\n",
        "print(f\"{grabdomain('user@gmail.com')}\")\n",
        "print(f\"{grabdomain('user@yahoo.com')}\")\n",
        "print(f\"{grabdomain('user@chinare.com')}\")\n"
      ],
      "metadata": {
        "colab": {
          "base_uri": "https://localhost:8080/"
        },
        "id": "hs_OEPXDsosn",
        "outputId": "b8d5ebed-a680-46fb-ea5c-36a612f94f5d"
      },
      "execution_count": 43,
      "outputs": [
        {
          "output_type": "stream",
          "name": "stdout",
          "text": [
            "domain.com\n",
            "gmail.com\n",
            "yahoo.com\n",
            "chinare.com\n"
          ]
        }
      ]
    },
    {
      "cell_type": "markdown",
      "source": [
        "### (8) Create a basic function that returns True if the word 'dog' is contained in the input string.\n",
        "\n",
        "Don't worry about edge cases like a punctuation being attached to the word dog, but do account for capitalization."
      ],
      "metadata": {
        "id": "DQkH15mdtEO3"
      }
    },
    {
      "cell_type": "code",
      "source": [
        "#define function\n",
        "\n",
        "def finddog(story):\n",
        "  story = story.casefold()\n",
        "  if 'dog' in story:\n",
        "    return True\n",
        "  else:\n",
        "    return False"
      ],
      "metadata": {
        "id": "dS_jEb_1tNp2"
      },
      "execution_count": 60,
      "outputs": []
    },
    {
      "cell_type": "code",
      "source": [
        "#test strings\n",
        "a = \"My dog is cute.\" #true \"dog\"\n",
        "b = \"DOGS are great pets.\" #true \"DOGS\" - still true with all capital\n",
        "c = \"I have a cat, not a dog.\" #true \"dog.\" - still true with the full stop\n",
        "d = \"Walking my Dog today.\" #true \"Dog\" - still true with first letter capital\n",
        "e = \"There's nothing here.\" #false"
      ],
      "metadata": {
        "id": "Bb5K1yNmuBpN"
      },
      "execution_count": 61,
      "outputs": []
    },
    {
      "cell_type": "code",
      "source": [
        "#run tests\n",
        "\n",
        "print(f\"{finddog(a)}\")\n",
        "print(f\"{finddog(b)}\")\n",
        "print(f\"{finddog(c)}\")\n",
        "print(f\"{finddog(d)}\")\n",
        "print(f\"{finddog(e)}\")\n"
      ],
      "metadata": {
        "colab": {
          "base_uri": "https://localhost:8080/"
        },
        "id": "M5UiUf47ubs9",
        "outputId": "bb4b714b-8ecb-4a49-ce15-e84647de3266"
      },
      "execution_count": 62,
      "outputs": [
        {
          "output_type": "stream",
          "name": "stdout",
          "text": [
            "True\n",
            "True\n",
            "True\n",
            "True\n",
            "False\n"
          ]
        }
      ]
    },
    {
      "cell_type": "markdown",
      "source": [
        "### (9) Create a function that counts the number of times the word \"dog\" occurs in a string.\n",
        "Again ignore edge cases."
      ],
      "metadata": {
        "id": "b_2B2ohYugVv"
      }
    },
    {
      "cell_type": "code",
      "source": [
        "#define function\n",
        "import re\n",
        "\n",
        "def countdog(story):\n",
        "   words = re.findall(r'\\bdog\\b', story.lower())\n",
        "   return len(words)"
      ],
      "metadata": {
        "id": "ryjGaeQlvK7r"
      },
      "execution_count": 70,
      "outputs": []
    },
    {
      "cell_type": "code",
      "source": [
        "#test strings\n",
        "f = \"Dog is a dog that other DOGS like.\" #output: 3\n",
        "g = \"I saw a dog and another dog.\" #output: 2\n",
        "h = \"No dogs here.\" #output: 0"
      ],
      "metadata": {
        "id": "6BCCpOSxwiMG"
      },
      "execution_count": 71,
      "outputs": []
    },
    {
      "cell_type": "code",
      "source": [
        "#run tests\n",
        "\n",
        "print(f\"{countdog(f)}\")\n",
        "print(f\"{countdog(g)}\")\n",
        "print(f\"{countdog(h)}\")"
      ],
      "metadata": {
        "colab": {
          "base_uri": "https://localhost:8080/"
        },
        "id": "4FAv18Qrw2fD",
        "outputId": "8b3c8e9d-5d1f-4bae-a05c-817173f4fa19"
      },
      "execution_count": 72,
      "outputs": [
        {
          "output_type": "stream",
          "name": "stdout",
          "text": [
            "2\n",
            "2\n",
            "0\n"
          ]
        }
      ]
    },
    {
      "cell_type": "markdown",
      "source": [
        "\n",
        "\n",
        "### (10) Use lambda expressions and the filter() function to filter out words from a list that don't start with the letter 's'. For example:\n",
        "\n",
        "`seq = ['soup','dog','salad','cat','great']`\n",
        "\n",
        "should be filtered down to: `['soup','salad']`\n"
      ],
      "metadata": {
        "id": "A1szWBe_w6yS"
      }
    },
    {
      "cell_type": "code",
      "source": [
        "seq = ['soup','dog','salad','cat','great']\n",
        "\n",
        "list(filter(lambda word: word[0] == 's', seq))\n"
      ],
      "metadata": {
        "colab": {
          "base_uri": "https://localhost:8080/"
        },
        "id": "R4TfZOSOx0yK",
        "outputId": "843427b3-796f-4489-bdee-2ca3d62abebc"
      },
      "execution_count": 74,
      "outputs": [
        {
          "output_type": "execute_result",
          "data": {
            "text/plain": [
              "['soup', 'salad']"
            ]
          },
          "metadata": {},
          "execution_count": 74
        }
      ]
    },
    {
      "cell_type": "markdown",
      "source": [
        "### (11) You are driving a little too fast, and a police officer stops you. Write a function to return one of 3 possible results: `\"No ticket\"`, `\"Small ticket\"`, or `\"Big Ticket\"`.\n",
        "If your speed is `60` or less, the result is `No Ticket\"`. If speed is between `61` and `80` inclusive, the result is `\"Small Ticket\"`. If speed is `81` or more, the result is `\"Big Ticket\"`. Unless it is your birthday (encoded as a boolean value in the parameters of the function) -- on your birthday, your speed can be 5 higher in all cases."
      ],
      "metadata": {
        "id": "IPps3SUoylrO"
      }
    },
    {
      "cell_type": "code",
      "source": [
        "#define function\n",
        "def giveticket(speed):\n",
        "  is_bithday = True\n",
        "  match is_bithday:\n",
        "    case True:\n",
        "      if speed <= 65:\n",
        "        return \"No Ticket\"\n",
        "      elif speed >= 66 and speed <= 85:\n",
        "        return \"Small Ticket\"\n",
        "      else:\n",
        "        return \"Big Ticket\"\n",
        "    case False:\n",
        "      if speed <= 60:\n",
        "        return \"No Ticket\"\n",
        "      elif speed >= 61 and speed <= 80:\n",
        "        return \"Small Ticket\"\n",
        "      else:\n",
        "        return \"Big Ticket\""
      ],
      "metadata": {
        "id": "A1Fms_s5yQCP"
      },
      "execution_count": 76,
      "outputs": []
    },
    {
      "cell_type": "code",
      "source": [
        "#tests\n",
        "#with bithday true\n",
        "print(giveticket(60))  # No Ticket\n",
        "print(giveticket(65))  # No Ticket\n",
        "print(giveticket(85))  # Small Ticket\n",
        "print(giveticket(65))   # No Ticket\n",
        "print(giveticket(85))   # Small Ticket\n"
      ],
      "metadata": {
        "colab": {
          "base_uri": "https://localhost:8080/"
        },
        "id": "unTLL50D0O-k",
        "outputId": "3ef65228-6b4f-4af8-d01f-687af3f9952d"
      },
      "execution_count": 77,
      "outputs": [
        {
          "output_type": "stream",
          "name": "stdout",
          "text": [
            "No Ticket\n",
            "No Ticket\n",
            "Small Ticket\n",
            "No Ticket\n",
            "Small Ticket\n"
          ]
        }
      ]
    }
  ]
}